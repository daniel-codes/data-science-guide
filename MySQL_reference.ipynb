{
 "cells": [
  {
   "cell_type": "markdown",
   "metadata": {},
   "source": [
    "# Creating Databases and Tables\n",
    "\n",
    "### Startup\n",
    "\n",
    "`mysql-ctl cli` - Start the CLI\n",
    "\n",
    "### Create Database\n",
    "\n",
    "You can have individual 'walled off' databases within a 'Database Server.' Generally, people capitalize what comes from SQL vs what does not\n",
    "\n",
    "`show databases;` - list the current datacases that exist within the MySQL server\n",
    "`CREATE DATABASE <name>;` - the general command for creating a database\n",
    "\n",
    "### Delete Database\n",
    "\n",
    "`DROP DATABASE <name>;` - delete database\n",
    "\n",
    "### Using Databases\n",
    "\n",
    "`USE <database name>;` - change database for usage\n",
    "`SELECT database():` - echo current database\n",
    "\n",
    "### Basic Datatypes\n",
    "\n",
    "Columns cannot have mixed datatypes. Example of types:    \n",
    "\n",
    "Numeric:   \n",
    "- **INT** - Whole number, max value of 4294967295\n",
    "- SMALLINT\n",
    "- FLOAT\n",
    "- DOUBLE ....\n",
    "\n",
    "String Types:\n",
    "- **VARCHAR** - a Variable-Length String between 1 and 255 characters\n",
    "- TEXT\n",
    "- BLOB\n",
    "- ENUM ....\n",
    "\n",
    "Date Types:\n",
    "- DATE\n",
    "- DATETIME\n",
    "- TIMESTAMP\n",
    "- YEAR ....\n",
    "\n",
    "### Tables\n",
    "\n",
    "A database is just a bunch of tables (in a relational database). Tables are collection of related data held in a structured format within a database. Consists of columns (header) and rows (data). \n",
    "\n",
    "### Creating Tables\n",
    "\n",
    "`CREATE TABLE <tablename>\n",
    "    (\n",
    "        column_name data_type,\n",
    "        column_name data_type\n",
    "    );`\n",
    "\n",
    "\n",
    "### Table Commands\n",
    "`SHOW TABLES;` - show tables in current database  \n",
    "`SHOW COLUMNS FROM <tablename>;` - show columns from defined table   \n",
    "`DESC <tablename>;` - similar to the above, describe table  \n",
    "\n",
    "### Delete Tables\n",
    "`DROP TABLE <tablename>;` - delete table"
   ]
  },
  {
   "cell_type": "markdown",
   "metadata": {},
   "source": [
    "# Inserting Data\n",
    "\n",
    "\n",
    "`INSERT INTO table_name(column_name) \n",
    "VALUES (data);`\n",
    "\n",
    "`INSERT INTO dogs(name, age)\n",
    "VALUES ('Kiba', 10);`\n",
    "\n",
    "\n",
    "\n",
    "\n"
   ]
  },
  {
   "cell_type": "code",
   "execution_count": null,
   "metadata": {
    "collapsed": true
   },
   "outputs": [],
   "source": []
  }
 ],
 "metadata": {
  "kernelspec": {
   "display_name": "Python 3",
   "language": "python",
   "name": "python3"
  },
  "language_info": {
   "codemirror_mode": {
    "name": "ipython",
    "version": 3
   },
   "file_extension": ".py",
   "mimetype": "text/x-python",
   "name": "python",
   "nbconvert_exporter": "python",
   "pygments_lexer": "ipython3",
   "version": "3.6.3"
  }
 },
 "nbformat": 4,
 "nbformat_minor": 2
}
