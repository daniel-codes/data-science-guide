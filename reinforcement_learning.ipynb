{
 "cells": [
  {
   "cell_type": "markdown",
   "metadata": {},
   "source": [
    "Goal of the Agent: Maximize expected cumulative reward\n",
    "\n",
    "\n",
    "##### Episodic Task  \n",
    "Definition: Interaction ends at some time step T\n",
    "$S_0, A_0, R_1, S_1, A_1, ... , R_T, S_T$\n",
    "\n",
    "An example is an agent playing chess where the reward is only delivered at the end of the game.\n",
    "\n",
    "\n",
    "##### Continuing Task\n",
    "Definition: Interaction continues without limit\n",
    "$S_0, A_0, R_1, S_1, A_1, ..."
   ]
  },
  {
   "cell_type": "code",
   "execution_count": null,
   "metadata": {},
   "outputs": [],
   "source": []
  }
 ],
 "metadata": {
  "kernelspec": {
   "display_name": "Python [conda env:Anaconda3]",
   "language": "python",
   "name": "conda-env-Anaconda3-py"
  },
  "language_info": {
   "codemirror_mode": {
    "name": "ipython",
    "version": 3
   },
   "file_extension": ".py",
   "mimetype": "text/x-python",
   "name": "python",
   "nbconvert_exporter": "python",
   "pygments_lexer": "ipython3",
   "version": "3.6.4"
  }
 },
 "nbformat": 4,
 "nbformat_minor": 2
}
