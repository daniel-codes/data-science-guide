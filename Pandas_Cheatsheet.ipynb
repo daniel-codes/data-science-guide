{
 "cells": [
  {
   "cell_type": "markdown",
   "metadata": {},
   "source": [
    "### Import Statements\n",
    "`import pandas as pd`  \n",
    "`import numpy as np`\n",
    "\n",
    "### Load/Save DataFrame\n",
    "`df = pd.read_csv('file.csv', sep=',')`   \n",
    "`df = pd.df.to_csv('filename', index=False)`  -  save dataframe to a csv. Index will get added as a series unless Index=False \n",
    "\n",
    "### DataFrame Selection\n",
    "\n",
    "`df.iloc[:,:-1]` - index location, Grabs all rows by index and up to last column\n",
    "\n",
    "\n",
    "\n",
    "\n",
    "\n",
    "### DataFrame Manipulation\n",
    "\n",
    "##### Convert Series to values for numpy\n",
    "`df['Series'].values`\n"
   ]
  },
  {
   "cell_type": "code",
   "execution_count": 5,
   "metadata": {},
   "outputs": [
    {
     "data": {
      "text/plain": [
       "array([[1, 1],\n",
       "       [1, 1]])"
      ]
     },
     "execution_count": 5,
     "metadata": {},
     "output_type": "execute_result"
    }
   ],
   "source": [
    "import numpy as np\n",
    "\n",
    "a = np.array([1,1,1,1]).reshape(-1,2)\n",
    "a"
   ]
  },
  {
   "cell_type": "code",
   "execution_count": null,
   "metadata": {},
   "outputs": [],
   "source": []
  }
 ],
 "metadata": {
  "kernelspec": {
   "display_name": "Python [conda env:Anaconda3]",
   "language": "python",
   "name": "conda-env-Anaconda3-py"
  },
  "language_info": {
   "codemirror_mode": {
    "name": "ipython",
    "version": 3
   },
   "file_extension": ".py",
   "mimetype": "text/x-python",
   "name": "python",
   "nbconvert_exporter": "python",
   "pygments_lexer": "ipython3",
   "version": "3.6.4"
  }
 },
 "nbformat": 4,
 "nbformat_minor": 2
}
