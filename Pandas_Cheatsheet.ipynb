{
 "cells": [
  {
   "cell_type": "markdown",
   "metadata": {},
   "source": [
    "### Import Statements\n",
    "`import pandas as pd`  \n",
    "`import numpy as np`\n",
    "\n",
    "### Load and Import\n",
    "`df = pd.read_csv('file.csv', sep=',', skiprows=<int>, dtype=str)` - Read csv file  \n",
    "\n",
    "### Save and Export\n",
    "`df = pd.df.to_csv('filename', index=False)` - save dataframe to a csv. Index will get added as a series unless Index=False \n",
    "\n",
    "### DataFrame Filtering\n",
    "`df.iloc[:,:-1]` - index location, Grabs all rows by index and up to last column\n",
    "`df['column'].unique()` - uniques are returned in order of appearance   \n",
    "`df['column'].sort_values()` - sort on column values   \n",
    "`df['column'].sort_index()` - sort on column index    \n",
    "`df['column'].nlargest()` - sort on largest value    \n",
    "\n",
    "### DataFrame Update\n",
    "\n",
    " \n",
    "`df.drop(['column1', 'column2'], axis=1, inplace=True)` - Drop data based on column(s)  \n",
    "`df.drop_duplicates(['column1', 'column2'], inplace=True)` - Return DataFrame with duplicate rows removed   \n",
    "`df['column'].values` - Convert Series to values for numpy\n"
   ]
  },
  {
   "cell_type": "code",
   "execution_count": 1,
   "metadata": {},
   "outputs": [
    {
     "data": {
      "text/plain": [
       "array([[1, 1],\n",
       "       [1, 1]])"
      ]
     },
     "execution_count": 1,
     "metadata": {},
     "output_type": "execute_result"
    }
   ],
   "source": [
    "import numpy as np\n",
    "\n",
    "a = np.array([1,1,1,1]).reshape(-1,2)\n",
    "a"
   ]
  },
  {
   "cell_type": "markdown",
   "metadata": {},
   "source": [
    "# Advanced\n",
    "\n",
    "* Split column strings and return instance:\n",
    "\n",
    "`df['new_column'] = df['column1'].str.split(';').str[0]`"
   ]
  },
  {
   "cell_type": "code",
   "execution_count": null,
   "metadata": {},
   "outputs": [],
   "source": []
  }
 ],
 "metadata": {
  "kernelspec": {
   "display_name": "Python [conda env:Anaconda3]",
   "language": "python",
   "name": "conda-env-Anaconda3-py"
  },
  "language_info": {
   "codemirror_mode": {
    "name": "ipython",
    "version": 3
   },
   "file_extension": ".py",
   "mimetype": "text/x-python",
   "name": "python",
   "nbconvert_exporter": "python",
   "pygments_lexer": "ipython3",
   "version": "3.6.4"
  }
 },
 "nbformat": 4,
 "nbformat_minor": 2
}
